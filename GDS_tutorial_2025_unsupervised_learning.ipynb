{
  "nbformat": 4,
  "nbformat_minor": 0,
  "metadata": {
    "colab": {
      "provenance": [],
      "authorship_tag": "ABX9TyP3uBe9E/qF7k+SUYg9AT9r",
      "include_colab_link": true
    },
    "kernelspec": {
      "name": "python3",
      "display_name": "Python 3"
    },
    "language_info": {
      "name": "python"
    }
  },
  "cells": [
    {
      "cell_type": "markdown",
      "metadata": {
        "id": "view-in-github",
        "colab_type": "text"
      },
      "source": [
        "<a href=\"https://colab.research.google.com/github/quantum-intelligence/materials-informatics-tutorial/blob/main/GDS_tutorial_2025_unsupervised_learning.ipynb\" target=\"_parent\"><img src=\"https://colab.research.google.com/assets/colab-badge.svg\" alt=\"Open In Colab\"/></a>"
      ]
    },
    {
      "cell_type": "markdown",
      "source": [
        "# GDS Tutorial 2025\n",
        "## Unsupervised learning"
      ],
      "metadata": {
        "id": "mwVbVZAq14yv"
      }
    },
    {
      "cell_type": "code",
      "execution_count": 1,
      "metadata": {
        "id": "T_vVQisX1XwJ"
      },
      "outputs": [],
      "source": [
        "# GDS Tutorial 2025\n",
        "## Unsupervised learning"
      ]
    }
  ]
}